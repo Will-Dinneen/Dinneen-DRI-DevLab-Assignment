{
 "cells": [
  {
   "cell_type": "markdown",
   "id": "impressive-warning",
   "metadata": {},
   "source": [
    "*Created by Will Dinneen (willdinneen@gmail.com) for the PDRI-DevLab Junior Data Scientist Position @ UPenn (7/7/2023)*"
   ]
  },
  {
   "cell_type": "markdown",
   "id": "exact-traffic",
   "metadata": {},
   "source": [
    "# Overview"
   ]
  },
  {
   "cell_type": "markdown",
   "id": "divided-nothing",
   "metadata": {},
   "source": [
    "### Data Management\n",
    "\n",
    "My data management process consisted of three key tasks: 1) recoding the \"gender\" variable, 2) merging the *case* and *demo* (demographics) datasets, and 3) restricting the data to only individuals who were arrested in Chicago. Ultimately, this process resulted in 25,000 unique cases that were used for the subsequent analysis.\n",
    "\n",
    "**Recoding Gender**\n",
    "\n",
    "The first task—recoding \"gender\"—was straightforward. First, I listed out all unique values in the orginal gender column (`['F' 'M' 'male' 'female']`) and then used Panda's built in `.replace()` method to recode them.\n",
    "\n",
    "**Merging Datasets**\n",
    "\n",
    "The subsequent tasks were more involved. When dealing with any unknown dataset, in this case the *case* and *demo* csv files, it is important to confirm the integrity of the data. Therefore before merging the datasets and restricing the rows to Chicago, I validated the data.\n",
    "\n",
    "First, I confirmed that there were no missing \"person_id\" values in either of the datasets, as this would have broken the merge. \n",
    "\n",
    "Second, I checked whether there were duplicated \"person_id\" values in the demographic data, and found that, indeed, there were 4721 duplicate IDs. Fortunately, none of these IDs had any contradictory demographic information, and so I was able to safely drop the duplicates.\n",
    "\n",
    "Finally, I confirmed that every \"person_id\" value in the case dataset was also represented in the demographic dataset.\n",
    "\n",
    "With these validations complete, I executed a left join between *case* and *demo* on \"person_id\", sucessfully merging the two datasets. To confirm ths merge I utilized the `.isnull()` method in Pandas to confirm that there was not a single missing value in any column after the merge\n",
    "\n",
    "**Restricting To Chicago**\n",
    "\n",
    "To restrict the cases to only those in Chicago, I had to utilize the \"address\" column in the data.\n",
    "\n",
    "First, I confirmed that the address format was consistent for every row, and that every address included a city value. \n",
    "\n",
    "I then extracted the City value from the address and transformed it into lowercase text to maintain consistency.\n",
    "\n",
    "Ultimately, there were three represented cities: `['chicago' 'oak lawn' 'cicero']`. After restricting the data to only Chicago cases (stored in the df `chicago_df`), there were exactly 25,000 relevant cases.\n",
    "\n",
    "### Variable Creation\n",
    "\n",
    "The Variable Creation section consisted of three overaching tasks: 1) creating an \"age\" variable, 2) creating a measure for 9th & 10th grade GPAs for defendants between the ages of 18-24, and 3) reconstructing the \"prior_arrest\" and \"re_arrest\" columns.\n",
    "\n",
    "**Creating The Age Variable**\n",
    "To create the age variable, I first confirmed that all of the \"bdate\" and \"arrest_date\" values were formatted correctly. After that, I simply used Panda's `Timedelta` method to calculate the number of days between each row's \"bdate\" and \"arrest_date\", then divided by 365.25 & rounded down to the nearest integer to calculate age at the time of arrest. \n",
    "\n",
    "**Creating GPA Measures**\n",
    "To create a GPA measure I needed to use a third dataset: *grades*. Like the others, I validated this data, confirming that there were no missing Person IDs and no duplicate Person IDs.\n",
    "\n",
    "Next, I restricted the chicago cases dataset to only those cases where the age of the defendent was between 18 and 24 (inclusive). Unfortunately, 3006 of the IDs in this restricted case dataset were not present in the grades data, and so not every person's GPA was calculated. I exported these 3006 IDs to a new file `missing_grades_data_ids.csv` for future reference.\n",
    "\n",
    "Next, I calculated the GPA for each row in the grades data by 1) converting each letter grade to a number, 2) filtering the relevant columns based on their prefix (e.g., `gr9` or `gr10`), and 3) caluclating the mean GPA for each grade level. \n",
    "\n",
    "Finally, I merged the the GPA data into the chicago case data on \"person_id\", adding the two new columns: `gr9_gpa` and `gr10_gpa`.\n",
    "\n",
    "**Reconstructing Prior Arrests & Re-Arrest**\n",
    "\n",
    "To recreate the Prior Arrests & Re-Arrest data, I needed to incorporate a fourth dataset, *prior_arrests*. Like the others, I began by validating this dataset, confirming that there were no missing IDs and that all prior arrest dates were in the correct format. I also confirmed that all person IDs in the prior arrests data existed in the chicago cases dataset.\n",
    "\n",
    "Once the new data was validated, I reconstructed the prior arrests variable by: 1) grouping the prior arrest data by \"person_id\", 2) summing the number of arrests for each person id, 3) merging that data into the chicago case data, replacing empty rows with 0, and 4) added arrests that occured during the study period to the new \"reconstructed_prior_arrests\" column using a sorted (on arrest_date) copy of the chicago case data.\n",
    "\n",
    "Next, I calculated the re-arrest value for each row to reconstruct the re-arrest variable. I did this by: 1) looping through each row of the chicago case data, 2) finding all subsequent cases with the same the \"person_id\", and 3) calculating whether those subsequent cases had an arrest date prior to the disposition data of the row in question.\\\n",
    "> Note: this calculation was not very efficient and took a longer time to run. This is becasue I am filtering the entire DF for every row (see the `calculate_re_arrests()` function). If I were to rewrite this to optimize for speed, I would rework the logic to calculate re_arrest on a DF grouped by person_id to avoid filtering the entire DF every time. \n",
    "\n",
    "Finally, I confirmed that both of these new values, `reconstructed_prior_arrests` and `reconstructed_re_arrest`, matched the original columns, `prior_arrests` and `re_arrest`, exactly. Ultimately, there were 0 differences between the reconstructed variables and the original variables.\n",
    "\n",
    "### Statistical Analysis\n",
    "\n",
    "Ultimately, the goal of this assignment was to evaluate whether the Attorney's Office's program actually reduced re-arrest among people with bail awaiting trial. This goal drove the process of actually analyzing the data.\n",
    "\n",
    "**Describing Demographic Characteristics**\n",
    "I began by describing the characteristics of the data in the following ways:\n",
    "1. I calculated the basic descriptive statistics for Age and then created a histogram to visualize the distribution of age.\n",
    "2. I created four tables that display the count & percentage of each Gender & Race variable.\n",
    "\n",
    "The actual outputs can be seen in Figure 1 below. \n",
    "\n",
    "**Balance Testing Between Treatment & Control Groups**\n",
    "To test the balance between treatment and control groups, that is, to confirm that there were no systematic differences in how defendents were assigned to each group, I utilized logistic regressions (Table 1) with assignment to the treatment group as my dependent variable.\n",
    "\n",
    "Specifically, my null hypothesis was that: \"Age, Gender, and Race had no effect on assignment to the treatment group.\"\n",
    "\n",
    "For Gender and Race, I found no statistically significant evidence to reject this null hypotheses, indicating balance across these groups. \n",
    "\n",
    "However, for Age, I found that assignment to the treatment group was positively correlated with age (Age Coefficient = 0.053), and that this correlation was statistically significant. \n",
    "\n",
    "To explore this relationship further, I displays descriptive statistics (Table 2) for Age across both groups. I discovered that the mean age among untreated and treated groups was ~28 and ~31 respectively. While this difference is statistically significant there is not reason to beleive that this difference is substantively significant.\n",
    "\n",
    "**Visualizing The Difference Between Groups**\n",
    "Still, it is important to understand this imbalance in age, and so, to explore it further, I decided to use Age as my observable characteristic ro visualize. To do this, I plotted the density distribution of Age in both treated and control groups (Figure 2), demonstrating visually how the treated group is slightly older than the untreated group.\n",
    "\n",
    "For good measure, I ran a T-Test on these two groups to confirm that the means were indeed significantly different.\n",
    "\n",
    "**Evaluating The Treatment Effect**\n",
    "Finally, I utilized logistic regression to evaluate the effectiveness of the program on re-arrest.\n",
    "\n",
    "In this case, my null hypothesis was that: \"Enrollment in the program had no affect on whether a defendent would be re-arrested prior to their deposition.\"\n",
    "\n",
    "I included four covariates in my analysis: Age, Gender, Race, and Prior Arrest. These variables were chosen as all plausibly have a relationship to re-arrest. *Were this an actual study, I would ground my decision to add these covariates in a much stronger theoretical framework.*\n",
    "> As Appendix Table 2 demonstrates, I also made sure to check for a non-linear relationship between age and rearrests by running a logistic regreassion with age-squared. Since I found no reason to beleive in a non-linear relationship, I left age-squared out of my final result.\n",
    "\n",
    "Gender and Race, being categorical variables, were transform into dummy variables for inclusion in the model. Since \"race_BLACK\" constituted over 70% of my dataset, I  choose it as my reference variable to avoid collinearity. The variables \"race_ASIAN\" and \"race_WHITE\" were thus included in the model as my race covariates.\n",
    "\n",
    "With these variables defined, I then ran a logistic regression with re-arrest as the dependent variable (Table 3).\n",
    "\n",
    "Notably, the effect of the treatment (Coefficient = -0.094) was statistically significant, implying that we ought to reject the null hypothesis that the enrollment had no effect. The negative direction of this coefficient implies that, indeed, participating in the program reduced the likelihood of re-arrest.\n",
    "\n",
    "**Evaluating Heterogeneous Treatment Effects**\n",
    "After running the overall regression, I then turned toward exploring heterogenous treatement effects. This would prove useful for helping the State's Attorney's Office prioritize program spending across groups.\n",
    "\n",
    "First, I evaluated heterogeneous treatment effects by creating interaction variables for each key group: Age, Gender, Race, and Prior Arrests. Like before, I ran a logistic regression (Table 4), including these interaction variables. For Age, Gender, and Race, I found no significant indication of heterogenous effects.\n",
    "\n",
    "For Prior Arrests x Treatment, I found a slight (Coefficient = -0.07), statistically significant increase in the effectiveness of the program. In other words, it appears that the treatment might prove more effective for those with more prior arrests.\n",
    "\n",
    "However, I was skeptical of these results, and was concerned that, since the case data was analyzed at the case level (i.e., the same person might appear multiple times in the data), that being a repeat offender was a possible confounder. Specifically,\n",
    "1. Being a repeat offender might affect assignment to treatment as more arrests means more opportunities to be treated\n",
    "2. Being a repeat offencer might affect re-arrest as repeat offenders might be more prone to arrest in general.\n",
    "\n",
    "To evaluate this, a ran another logistic regression on the effect of treatment (Table 5), however, this time *I only included the very first offense for each defendent* (n = 14,353). By doing this I ensured true randomization in assignment to treatment, and avoided hidden effects such as carry-over effects from treatment during a prior arrest.\n",
    "\n",
    "Among this group, I found a significantly stronger effect of treatment than within the group of all cases. Specifically, the treatment coefficient for the first-offence group was -0.146 whereas the coefficient for the overall group was -0.094.\n",
    "\n",
    "Therefore, I would suggest that the State's Attorney's Office focus their efforts on only first time offenders. Not only would this reduce the cost of the program by nearly half, but it would likely have more pronounced results."
   ]
  },
  {
   "cell_type": "markdown",
   "id": "1876d6db",
   "metadata": {},
   "source": [
    "# Code"
   ]
  },
  {
   "cell_type": "markdown",
   "id": "younger-pipeline",
   "metadata": {},
   "source": [
    "## Data Management"
   ]
  },
  {
   "cell_type": "code",
   "execution_count": 1,
   "id": "provincial-double",
   "metadata": {},
   "outputs": [],
   "source": [
    "# Imports\n",
    "import pandas as pd\n",
    "import numpy as np\n",
    "import matplotlib.pyplot as plt\n",
    "import seaborn as sns\n",
    "import statsmodels.api as sm\n",
    "import scipy.stats as stats\n",
    "import copy\n",
    "\n",
    "# Datasets\n",
    "case_df = pd.read_csv('../case.csv')\n",
    "demo_df = pd.read_csv('../demo.csv')\n",
    "prior_arrests_df = pd.read_csv('../prior_arrests.csv')\n",
    "grades_df = pd.read_csv('../grades.csv')"
   ]
  },
  {
   "cell_type": "code",
   "execution_count": 2,
   "id": "alpine-excellence",
   "metadata": {},
   "outputs": [
    {
     "name": "stdout",
     "output_type": "stream",
     "text": [
      "Gender column values pre-recode:\n",
      "['F' 'M' 'male' 'female']\n",
      "\n",
      "Gender column values post-recode:\n",
      "['F' 'M']\n"
     ]
    }
   ],
   "source": [
    "# 1. Recode it so that males are consistently coded as “M” and females are consistently coded as “F”.\n",
    "\n",
    "print(\"Gender column values pre-recode:\")\n",
    "print(demo_df[\"gender\"].unique())\n",
    "\n",
    "# Gender column recoding\n",
    "gender_recode = {\n",
    "    'male': 'M',\n",
    "    'female': 'F'\n",
    "}\n",
    "\n",
    "demo_df[\"gender\"] = demo_df[\"gender\"].replace(gender_recode)\n",
    "\n",
    "print(\"\\nGender column values post-recode:\")\n",
    "print(demo_df[\"gender\"].unique())"
   ]
  },
  {
   "cell_type": "code",
   "execution_count": 3,
   "id": "d722cfb7",
   "metadata": {},
   "outputs": [
    {
     "name": "stdout",
     "output_type": "stream",
     "text": [
      "---- Checking Data Integrity ----\n",
      "\n",
      "Missing demographic values: 0\n",
      "Missing case values: 0\n",
      "\n",
      "Duplicate demographic ids: 4721\n",
      "Number of contradictory demographic ids: 0\n",
      "\n",
      "\n",
      "---- Comparing Demographic & Case Representation ----\n",
      "\n",
      "Number of unique persons in case data:\n",
      "15353\n",
      "\n",
      "Number of unique persons in demographic data:\n",
      "15715\n",
      "\n",
      "Difference in number of unique persons in demographic vs case data:\n",
      "362\n",
      "\n",
      "Missing values after merge:\n",
      "caseid           0\n",
      "person_id        0\n",
      "arrest_date      0\n",
      "dispos_date      0\n",
      "treat            0\n",
      "re_arrest        0\n",
      "prior_arrests    0\n",
      "address          0\n",
      "race             0\n",
      "gender           0\n",
      "bdate            0\n",
      "dtype: int64\n"
     ]
    }
   ],
   "source": [
    "# 2. Merge the case and demo datasets together so that each row in the case dataset also contains the demographics of the defendant.\n",
    "\n",
    "# Confirm Data Integrity\n",
    "print(\"---- Checking Data Integrity ----\\n\")\n",
    "\n",
    "missing_demo_values = demo_df[\"person_id\"].isnull().sum()\n",
    "missing_case_values = case_df[\"person_id\"].isnull().sum()\n",
    "print(f\"Missing demographic values: {missing_demo_values}\")\n",
    "print(f\"Missing case values: {missing_case_values}\")\n",
    "\n",
    "duplicate_demo_ids = demo_df[\"person_id\"].duplicated().sum()\n",
    "print(f\"\\nDuplicate demographic ids: {duplicate_demo_ids}\")\n",
    "# Check to see if duplicated IDs are duplicated rows\n",
    "duplicate_ids = demo_df[demo_df[\"person_id\"].duplicated(keep=False)]\n",
    "duplicated_rows = duplicate_ids[duplicate_ids.duplicated(keep=False)]\n",
    "print(f\"Number of contradictory demographic ids: {len(duplicate_ids) - len(duplicated_rows)}\")\n",
    "\n",
    "# Dropping duplicates\n",
    "demo_df = demo_df.drop_duplicates()\n",
    "\n",
    "# Measure Differences Accross Demo & Case data\n",
    "print(\"\\n\\n---- Comparing Demographic & Case Representation ----\\n\")\n",
    "\n",
    "unique_case_ids = case_df[\"person_id\"].unique()\n",
    "unique_demo_ids = demo_df[\"person_id\"].unique()\n",
    "print(\"Number of unique persons in case data:\")\n",
    "print(len(unique_case_ids))\n",
    "\n",
    "print(\"\\nNumber of unique persons in demographic data:\")\n",
    "print(len(unique_demo_ids))\n",
    "\n",
    "print(\"\\nDifference in number of unique persons in demographic vs case data:\")\n",
    "print(len(unique_demo_ids) - len(unique_case_ids))\n",
    "\n",
    "# Identify extra demo IDs & save to file for later investigation \n",
    "extra_demo_ids = set(unique_demo_ids) - set(unique_case_ids)\n",
    "extra_demo_ids_df = pd.DataFrame(extra_demo_ids, columns=['person_id'])\n",
    "extra_demo_ids_df.to_csv('./outputs/extra_demo_ids.csv', index=False)\n",
    "\n",
    "# Merge the df\n",
    "merged_df = case_df.merge(demo_df, on='person_id', how='left')\n",
    "\n",
    "# Check for missing values\n",
    "print(f\"\\nMissing values after merge:\\n{merged_df.isnull().sum()}\")"
   ]
  },
  {
   "cell_type": "code",
   "execution_count": 4,
   "id": "closed-translation",
   "metadata": {},
   "outputs": [
    {
     "name": "stdout",
     "output_type": "stream",
     "text": [
      "Number of addresses with correct format: 26000\n",
      "Number of addresses with incorrect format: 0\n",
      "\n",
      "Represented cities: ['chicago' 'oak lawn' 'cicero']\n",
      "\n",
      "Number of cases in Chicago: 25000\n"
     ]
    }
   ],
   "source": [
    "# 3. For the purpose of this analysis, please restrict the data to only individuals who were arrested in Chicago.\n",
    "\n",
    "# Check the format of the address column\n",
    "address_format_check = merged_df[\"address\"].str.contains(\", \")\n",
    "print(f\"Number of addresses with correct format: {address_format_check.sum()}\")\n",
    "print(f\"Number of addresses with incorrect format: {(~address_format_check).sum()}\")\n",
    "\n",
    "# Extract the city from the address column\n",
    "merged_df[\"city\"] = merged_df[\"address\"].str.split(\", \").str[1]\n",
    "\n",
    "# Confirm that all cities are the same case\n",
    "merged_df[\"city\"] = merged_df[\"city\"].str.lower()\n",
    "\n",
    "# Check to see if there are any misspelled values\n",
    "print(f\"\\nRepresented cities: {merged_df['city'].unique()}\")\n",
    "\n",
    "# Extract all rows with arrests in Chicago\n",
    "chicago_df = merged_df[merged_df[\"city\"] == \"chicago\"].copy()\n",
    "\n",
    "print(f\"\\nNumber of cases in Chicago: {len(chicago_df)}\")"
   ]
  },
  {
   "cell_type": "markdown",
   "id": "fourth-committee",
   "metadata": {},
   "source": [
    "## Variable Creation"
   ]
  },
  {
   "cell_type": "code",
   "execution_count": 5,
   "id": "fifth-burlington",
   "metadata": {},
   "outputs": [
    {
     "name": "stdout",
     "output_type": "stream",
     "text": [
      "All birth dates have the correct format.\n",
      "All arrest dates have the correct format.\n"
     ]
    }
   ],
   "source": [
    "# 1. Create an age variable equal to the defendant’s age at the time of arrest for each case.\n",
    "\n",
    "# Validate bdate & arrest date format\n",
    "chicago_df['bdate'] = pd.to_datetime(chicago_df['bdate'], errors='coerce')\n",
    "if chicago_df['bdate'].isnull().sum() > 0:\n",
    "    print(\"Some birth dates have an incorrect format.\")\n",
    "else:\n",
    "    print(\"All birth dates have the correct format.\")\n",
    "    \n",
    "chicago_df['arrest_date'] = pd.to_datetime(chicago_df['arrest_date'], errors='coerce')\n",
    "if chicago_df['arrest_date'].isnull().sum() > 0:\n",
    "    print(\"Some arrest dates have an incorrect format.\")\n",
    "else:\n",
    "    print(\"All arrest dates have the correct format.\")\n",
    "\n",
    "# Create age variable\n",
    "chicago_df['age'] = np.floor((chicago_df['arrest_date'] - chicago_df['bdate']) / pd.Timedelta(days=365.25))"
   ]
  },
  {
   "cell_type": "code",
   "execution_count": 6,
   "id": "brave-listening",
   "metadata": {
    "scrolled": false
   },
   "outputs": [
    {
     "name": "stdout",
     "output_type": "stream",
     "text": [
      "---- Validating Grades Data ----\n",
      "\n",
      "Number of missing IDs in grade data: 0\n",
      "Duplicate grades ids: 0\n",
      "\n",
      "Number of relevant IDs in Chicago data not represented in Grade data: 3006\n",
      "Missing grades data IDs saved to file: ./outputs/missing_grades_data_ids.csv\n"
     ]
    }
   ],
   "source": [
    "# 2. Please construct measures for 9th and 10th grade GPA for this target population.\n",
    "grades_df\n",
    "\n",
    "# Create the numeric grade scale\n",
    "grade_scale_index = {\n",
    "    \"A\": 4,\n",
    "    \"B\": 3,\n",
    "    \"C\": 2,\n",
    "    \"D\": 1,\n",
    "    \"F\": 0\n",
    "}\n",
    "grades_df = grades_df.replace(grade_scale_index)\n",
    "\n",
    "# Create gr9 and gr10 GPA measures\n",
    "def calculate_gpa(df, grade_level):\n",
    "    relevant_columns = df.filter(like=grade_level)\n",
    "    gpa_column = relevant_columns.mean(axis=1, skipna=True).round(3)\n",
    "    return gpa_column\n",
    "grades_df['gr9_gpa'] = calculate_gpa(grades_df, 'gr9')\n",
    "grades_df['gr10_gpa'] = calculate_gpa(grades_df, 'gr10')\n",
    "\n",
    "chicago_df\n",
    "\n",
    "# Validate grades data\n",
    "print(\"---- Validating Grades Data ----\\n\")\n",
    "missing_grades_ids = grades_df['person_id'].isnull().sum()\n",
    "print(f\"Number of missing IDs in grade data: {missing_grades_ids}\")\n",
    "duplicate_grades_ids = grades_df[\"person_id\"].duplicated().sum()\n",
    "print(f\"Duplicate grades ids: {duplicate_grades_ids}\")\n",
    "\n",
    "# Check if all relevant ids exist in both datasets\n",
    "filtered_chicago_df = chicago_df[(chicago_df['age'] >= 18) & (chicago_df['age'] <= 24)]\n",
    "relevant_chicago_ids = set(filtered_chicago_df['person_id'])\n",
    "grade_ids = set(grades_df['person_id'])\n",
    "missing_grades_ids = relevant_chicago_ids - grade_ids\n",
    "print(f\"\\nNumber of relevant IDs in Chicago data not represented in Grade data: {len(missing_grades_ids)}\")\n",
    "missing_grades_data_ids = pd.DataFrame(missing_grades_ids, columns=['person_id'])\n",
    "missing_grades_data_ids.to_csv('./outputs/missing_grades_data_ids.csv', index=False)\n",
    "print(\"Missing grades data IDs saved to file: ./outputs/missing_grades_data_ids.csv\")\n",
    "\n",
    "# Add GPA measures to chicago_df\n",
    "filtered_chicago_df = pd.merge(filtered_chicago_df, grades_df[['person_id', 'gr9_gpa', 'gr10_gpa']], on='person_id', how='left')\n",
    "chicago_df = pd.merge(chicago_df, filtered_chicago_df[['caseid', 'gr9_gpa', 'gr10_gpa']], on='caseid', how='left')"
   ]
  },
  {
   "cell_type": "code",
   "execution_count": 7,
   "id": "stable-blink",
   "metadata": {},
   "outputs": [
    {
     "name": "stdout",
     "output_type": "stream",
     "text": [
      "---- Validating Prior Arrests Data ----\n",
      "\n",
      "Number of missing IDs in prior arrests data: 0\n",
      "All arrest dates have the correct format.\n",
      "\n",
      "Most recent prior_arrest_df date: 2011-12-31 00:00:00\n",
      "Oldest chicago_df date: 2012-01-02 00:00:00\n",
      "\n",
      "All person IDs from prior_arrests_df exist in chicago_df\n",
      "\n",
      "\n",
      "---- Validating Reconstructed Variables ----\n",
      "\n",
      "Number of differenes between prior_arrests & reconstructed_prior_arrests: 0\n",
      "Number of differenes between re_arrest & reconstructed_re_arrest: 0\n"
     ]
    }
   ],
   "source": [
    "# 3.a. Please reconstruct the variable (prior arrests) using the prior_arrests.csv file. \n",
    "\n",
    "# Validate prior arrests data\n",
    "print(\"---- Validating Prior Arrests Data ----\\n\")\n",
    "missing_arrest_ids = prior_arrests_df['person_id'].isnull().sum()\n",
    "print(f\"Number of missing IDs in prior arrests data: {missing_arrest_ids}\")\n",
    "\n",
    "# Validate date format\n",
    "prior_arrests_df['arrest_date'] = pd.to_datetime(prior_arrests_df['arrest_date'], errors='coerce')\n",
    "if prior_arrests_df['arrest_date'].isnull().sum() > 0:\n",
    "    print(\"\\nSome arrest dates have an incorrect format.\")\n",
    "else:\n",
    "    print(\"All arrest dates have the correct format.\")\n",
    "    \n",
    "# Confirm that there is no overlap so as not to double count\n",
    "print(f\"\\nMost recent prior_arrest_df date: {prior_arrests_df['arrest_date'].max()}\")\n",
    "print(f\"Oldest chicago_df date: {chicago_df['arrest_date'].min()}\")\n",
    "\n",
    "# Check if all arrest ids exist in both datasets\n",
    "prior_arrests_ids = set(prior_arrests_df['person_id'])\n",
    "chicago_ids = set(chicago_df['person_id'])\n",
    "if prior_arrests_ids.issubset(chicago_ids):\n",
    "    print(\"\\nAll person IDs from prior_arrests_df exist in chicago_df\")\n",
    "else:\n",
    "    print(\"\\nNot all person IDs from prior_arrests_df exist in chicago_df\")\n",
    "\n",
    "# Reconstruct prior_arrests variable\n",
    "prior_arrest_counts = prior_arrests_df.groupby('person_id').size().reset_index(name='reconstructed_prior_arrests')\n",
    "chicago_df = pd.merge(chicago_df, prior_arrest_counts, on='person_id', how='left')\n",
    "chicago_df['reconstructed_prior_arrests'] = chicago_df['reconstructed_prior_arrests'].fillna(0)\n",
    "chicago_df['reconstructed_prior_arrests'] = chicago_df['reconstructed_prior_arrests'].astype(int)\n",
    "\n",
    "# Add arrests that occured during the study period\n",
    "chicago_df_sorted = chicago_df.sort_values(['person_id', 'arrest_date'])\n",
    "chicago_df_sorted['reconstructed_prior_arrests'] = chicago_df_sorted.groupby('person_id').cumcount() + chicago_df_sorted['reconstructed_prior_arrests']\n",
    "chicago_df.loc[chicago_df_sorted.index, 'reconstructed_prior_arrests'] = chicago_df_sorted['reconstructed_prior_arrests']\n",
    "\n",
    "# 3.b. Please reconstruct this indicator (re_arrest).\n",
    "\n",
    "# Calculate whether each row was rearrested\n",
    "def calculate_re_arrests(row):\n",
    "    other_cases = chicago_df_sorted[chicago_df_sorted['person_id'] == row['person_id']]\n",
    "    subsequent_cases = other_cases[other_cases['arrest_date'] > row['arrest_date']]\n",
    "    re_arrests = subsequent_cases[subsequent_cases['arrest_date'] < row['dispos_date']]\n",
    "    return len(re_arrests) > 0\n",
    "\n",
    "chicago_df_sorted['reconstructed_re_arrest'] = chicago_df_sorted.apply(calculate_re_arrests, axis=1)\n",
    "chicago_df_sorted['reconstructed_re_arrest'] = chicago_df_sorted['reconstructed_re_arrest'].astype(int)\n",
    "\n",
    "chicago_df.loc[chicago_df_sorted.index, 'reconstructed_re_arrest'] = chicago_df_sorted['reconstructed_re_arrest']\n",
    "\n",
    "# 3.c. Please show that the variables you reconstructed are equal to the versions in the provided datasets.\n",
    "\n",
    "print(\"\\n\\n---- Validating Reconstructed Variables ----\\n\")\n",
    "\n",
    "# Check prior_arrests variable\n",
    "prior_arrests_differences = chicago_df[chicago_df['prior_arrests'] != chicago_df['reconstructed_prior_arrests']]\n",
    "print(f\"Number of differenes between prior_arrests & reconstructed_prior_arrests: {len(prior_arrests_differences)}\")\n",
    "\n",
    "# Check re_arrest variable\n",
    "re_arrest_differences = chicago_df[chicago_df['re_arrest'] != chicago_df['reconstructed_re_arrest']]\n",
    "print(f\"Number of differenes between re_arrest & reconstructed_re_arrest: {len(re_arrest_differences)}\")"
   ]
  },
  {
   "cell_type": "markdown",
   "id": "foreign-calgary",
   "metadata": {},
   "source": [
    "## Statistical Analysis"
   ]
  },
  {
   "cell_type": "markdown",
   "id": "3f5b11f3",
   "metadata": {},
   "source": [
    "### Figure 1 — Demographic Descriptions"
   ]
  },
  {
   "cell_type": "code",
   "execution_count": 8,
   "id": "deadly-cattle",
   "metadata": {
    "scrolled": false
   },
   "outputs": [
    {
     "name": "stdout",
     "output_type": "stream",
     "text": [
      "---- Describing Demographics ----\n",
      "\n",
      "\n",
      "Age: \n",
      "+-------+-------------+\n",
      "|       |         age |\n",
      "|-------+-------------|\n",
      "| count | 25000       |\n",
      "| mean  |    29.8221  |\n",
      "| std   |     7.79954 |\n",
      "| min   |     9       |\n",
      "| 25%   |    24       |\n",
      "| 50%   |    29       |\n",
      "| 75%   |    35       |\n",
      "| max   |    70       |\n",
      "+-------+-------------+\n"
     ]
    },
    {
     "data": {
      "image/png": "[encoded data removed]",
      "text/plain": [
       "<Figure size 500x300 with 1 Axes>"
      ]
     },
     "metadata": {},
     "output_type": "display_data"
    },
    {
     "name": "stdout",
     "output_type": "stream",
     "text": [
      "\n",
      "Gender Counts: \n",
      "+----+----------+\n",
      "|    |   gender |\n",
      "|----+----------|\n",
      "| M  |    20064 |\n",
      "| F  |     4936 |\n",
      "+----+----------+\n",
      "\n",
      "Gender Percentage: \n",
      "+----+----------+\n",
      "|    |   gender |\n",
      "|----+----------|\n",
      "| M  |   80.256 |\n",
      "| F  |   19.744 |\n",
      "+----+----------+\n",
      "\n",
      "Race Counts: \n",
      "+-------+--------+\n",
      "|       |   race |\n",
      "|-------+--------|\n",
      "| BLACK |  18249 |\n",
      "| WHITE |   5512 |\n",
      "| ASIAN |   1239 |\n",
      "+-------+--------+\n",
      "\n",
      "Race Percentage: \n",
      "+-------+--------+\n",
      "|       |   race |\n",
      "|-------+--------|\n",
      "| BLACK | 72.996 |\n",
      "| WHITE | 22.048 |\n",
      "| ASIAN |  4.956 |\n",
      "+-------+--------+\n"
     ]
    }
   ],
   "source": [
    "# 1. Describe the demographic characteristics of the study population based on the data available to you.\n",
    "\n",
    "print(\"---- Describing Demographics ----\\n\")\n",
    "\n",
    "# Summary statistics\n",
    "print(\"\\nAge: \")\n",
    "print(chicago_df['age'].describe().to_markdown(tablefmt=\"psql\"))\n",
    "\n",
    "# Age Histogram\n",
    "plt.figure(figsize=(5,3))\n",
    "sns.histplot(data=chicago_df, x=\"age\", bins=20, kde=True)\n",
    "plt.title(\"Age Distribution Across Chicago Cases (n = 25,000)\")\n",
    "plt.xlabel(\"Age\")\n",
    "plt.ylabel(\"Frequency\")\n",
    "plt.show()\n",
    "\n",
    "print(\"\\nGender Counts: \")\n",
    "gender_counts = chicago_df['gender'].value_counts()\n",
    "print(gender_counts.to_markdown(tablefmt=\"psql\"))\n",
    "print(\"\\nGender Percentage: \")\n",
    "gender_percentages = chicago_df['gender'].value_counts(normalize=True) * 100\n",
    "print(gender_percentages.to_markdown(tablefmt=\"psql\"))\n",
    "\n",
    "print(\"\\nRace Counts: \")\n",
    "race_counts = chicago_df['race'].value_counts()\n",
    "print(race_counts.to_markdown(tablefmt=\"psql\"))\n",
    "print(\"\\nRace Percentage: \")\n",
    "race_percentages = chicago_df['race'].value_counts(normalize=True) * 100\n",
    "print(race_percentages.to_markdown(tablefmt=\"psql\"))"
   ]
  },
  {
   "cell_type": "markdown",
   "id": "5b3c2816",
   "metadata": {},
   "source": [
    "### Tables 1 & 2 — Treatment & Control Group Balancing"
   ]
  },
  {
   "cell_type": "code",
   "execution_count": 9,
   "id": "3ab6de94",
   "metadata": {
    "scrolled": false
   },
   "outputs": [
    {
     "name": "stdout",
     "output_type": "stream",
     "text": [
      "Optimization terminated successfully.\n",
      "         Current function value: 0.672005\n",
      "         Iterations 5\n",
      "\n",
      "Regression Results for Predicting Treatement Assignment Based on Key Variable (Table 1):\n",
      "                           Logit Regression Results                           \n",
      "==============================================================================\n",
      "Dep. Variable:                  treat   No. Observations:                25000\n",
      "Model:                          Logit   Df Residuals:                    24995\n",
      "Method:                           MLE   Df Model:                            4\n",
      "Date:                Fri, 07 Jul 2023   Pseudo R-squ.:                 0.02861\n",
      "Time:                        11:34:22   Log-Likelihood:                -16800.\n",
      "converged:                       True   LL-Null:                       -17295.\n",
      "Covariance Type:            nonrobust   LLR p-value:                6.151e-213\n",
      "=================================================================================\n",
      "                    coef    std err          z      P>|z|      [0.025      0.975]\n",
      "---------------------------------------------------------------------------------\n",
      "const            -1.4731      0.059    -24.857      0.000      -1.589      -1.357\n",
      "age               0.0530      0.002     30.370      0.000       0.050       0.056\n",
      "gender_binary     0.0133      0.032      0.409      0.683      -0.050       0.077\n",
      "race_ASIAN        0.0422      0.060      0.704      0.482      -0.075       0.160\n",
      "race_WHITE       -0.0421      0.031     -1.343      0.179      -0.104       0.019\n",
      "=================================================================================\n",
      "\n",
      "\n",
      "Description of Age Across Groups (Table 2):\n",
      "+---------+---------+---------+---------+-------+-------+-------+-------+-------+\n",
      "|   treat |   count |    mean |     std |   min |   25% |   50% |   75% |   max |\n",
      "|---------+---------+---------+---------+-------+-------+-------+-------+-------|\n",
      "|       0 |   11851 | 28.2113 | 7.16824 |     9 |    23 |    28 |    33 |    69 |\n",
      "|       1 |   13149 | 31.2739 | 8.05651 |     9 |    26 |    31 |    36 |    70 |\n",
      "+---------+---------+---------+---------+-------+-------+-------+-------+-------+\n"
     ]
    }
   ],
   "source": [
    "# 1.a. Are the treatment and control groups balanced?\n",
    "\n",
    "import statsmodels.api as sm\n",
    "import pandas as pd\n",
    "\n",
    "# Encode Race & Gender\n",
    "chicago_df['gender_binary'] = chicago_df['gender'].astype('category').cat.codes\n",
    "race_dummies = pd.get_dummies(chicago_df['race'], prefix='race')\n",
    "\n",
    "# Drop black column to avoid perfect colinearity \n",
    "race_dummies = race_dummies.drop('race_BLACK', axis=1)\n",
    "\n",
    "X = pd.concat([chicago_df[['age', 'gender_binary']], race_dummies], axis=1)\n",
    "X = sm.add_constant(X)\n",
    "\n",
    "y = chicago_df['treat']\n",
    "\n",
    "# Fit the model\n",
    "logit_model = sm.Logit(y, X)\n",
    "result = logit_model.fit()\n",
    "\n",
    "print(\"\\nRegression Results for Predicting Treatement Assignment Based on Key Variable (Table 1):\")\n",
    "print(result.summary())\n",
    "\n",
    "print(\"\\n\\nDescription of Age Across Groups (Table 2):\")\n",
    "print(chicago_df.groupby('treat')['age'].describe().to_markdown(tablefmt=\"psql\"))"
   ]
  },
  {
   "cell_type": "markdown",
   "id": "0fdc01da",
   "metadata": {},
   "source": [
    "### Figure 2 — Age Distribution by Enrollment Status"
   ]
  },
  {
   "cell_type": "code",
   "execution_count": 10,
   "id": "2bbf10fc",
   "metadata": {
    "scrolled": false
   },
   "outputs": [
    {
     "data": {
      "image/png": "[encoded data removed]",
      "text/plain": [
       "<Figure size 1000x600 with 1 Axes>"
      ]
     },
     "metadata": {},
     "output_type": "display_data"
    }
   ],
   "source": [
    "# 1.b. Choose one observable characteristic and visualize the difference between enrolled and not enrolled subjects.\n",
    "\n",
    "treat_df = chicago_df[chicago_df['treat'] == 1]\n",
    "control_df = chicago_df[chicago_df['treat'] == 0]\n",
    "\n",
    "t_stat, p_val = stats.ttest_ind(treat_df['age'], control_df['age'])\n",
    "\n",
    "# Plot\n",
    "plt.figure(figsize=(10,6))\n",
    "sns.kdeplot(treat_df['age'], label='Enrolled (Treatment)')\n",
    "sns.kdeplot(control_df['age'], label='Not Enrolled (Control)')\n",
    "\n",
    "plt.xlabel('Age')\n",
    "plt.ylabel('Density')\n",
    "plt.title(f'Age Distribution by Enrollment Status (Figure 2) \\n t-statistic = {t_stat.round(2)}, p-value = {p_val.round(3)}')\n",
    "plt.legend()\n",
    "plt.show()"
   ]
  },
  {
   "cell_type": "markdown",
   "id": "95ea5e41",
   "metadata": {},
   "source": [
    "### Table 3 — Effect of Program Enrollment on Re-arrest"
   ]
  },
  {
   "cell_type": "code",
   "execution_count": 11,
   "id": "local-throw",
   "metadata": {
    "scrolled": false
   },
   "outputs": [
    {
     "name": "stdout",
     "output_type": "stream",
     "text": [
      "---- Describing Treatment & Outcomes ----\n",
      "\n",
      "+---------+---------------+---------------+\n",
      "|   treat |   re_arrest_0 |   re_arrest_1 |\n",
      "|---------+---------------+---------------|\n",
      "|       0 |          9459 |          2392 |\n",
      "|       1 |         10288 |          2861 |\n",
      "+---------+---------------+---------------+\n",
      "\n",
      "\n",
      "---- Running Regression ----\n",
      "\n",
      "Optimization terminated successfully.\n",
      "         Current function value: 0.504746\n",
      "         Iterations 6\n",
      "\n",
      "Effect of Program Enrollment on Re-arrest (Table 3): \n",
      "                           Logit Regression Results                           \n",
      "==============================================================================\n",
      "Dep. Variable:              re_arrest   No. Observations:                25000\n",
      "Model:                          Logit   Df Residuals:                    24993\n",
      "Method:                           MLE   Df Model:                            6\n",
      "Date:                Fri, 07 Jul 2023   Pseudo R-squ.:                 0.01823\n",
      "Time:                        11:34:22   Log-Likelihood:                -12619.\n",
      "converged:                       True   LL-Null:                       -12853.\n",
      "Covariance Type:            nonrobust   LLR p-value:                 5.136e-98\n",
      "=================================================================================\n",
      "                    coef    std err          z      P>|z|      [0.025      0.975]\n",
      "---------------------------------------------------------------------------------\n",
      "const            -2.3330      0.073    -32.058      0.000      -2.476      -2.190\n",
      "treat            -0.0936      0.033     -2.841      0.004      -0.158      -0.029\n",
      "age               0.0220      0.003      8.279      0.000       0.017       0.027\n",
      "gender_binary     0.0318      0.040      0.801      0.423      -0.046       0.110\n",
      "prior_arrests     0.0925      0.010      9.371      0.000       0.073       0.112\n",
      "race_ASIAN       -0.0323      0.073     -0.440      0.660      -0.176       0.112\n",
      "race_WHITE       -0.0143      0.038     -0.374      0.708      -0.089       0.061\n",
      "=================================================================================\n"
     ]
    }
   ],
   "source": [
    "# 3. Did participating in the program reduce the likelihood of re-arrest before disposition? Explain your answer and your methodology.\n",
    "\n",
    "print(\"---- Describing Treatment & Outcomes ----\\n\")\n",
    "\n",
    "cross_tab = pd.crosstab(chicago_df['treat'], chicago_df['re_arrest'])\n",
    "cross_tab.columns = ['re_arrest_0', 're_arrest_1']\n",
    "\n",
    "# print(cross_tab.to_markdown(tablefmt=\"psql\", index=None))\n",
    "\n",
    "print(cross_tab.to_markdown(tablefmt=\"psql\"))\n",
    "\n",
    "print(\"\\n\\n---- Running Regression ----\\n\")\n",
    "\n",
    "# Create covariates\n",
    "race_dummies = pd.get_dummies(chicago_df['race'], prefix='race')\n",
    "race_dummies = race_dummies.drop('race_BLACK', axis=1)\n",
    "\n",
    "chicago_df = pd.concat([chicago_df, race_dummies], axis=1)\n",
    "\n",
    "# Run a Logit Regression\n",
    "X = chicago_df[['treat', 'age', 'gender_binary', 'prior_arrests', 'race_ASIAN', 'race_WHITE']]\n",
    "\n",
    "y = chicago_df['re_arrest']\n",
    "X = sm.add_constant(X)\n",
    "\n",
    "# Fit model\n",
    "model = sm.Logit(y, X)\n",
    "result = model.fit()\n",
    "\n",
    "# Print the model summary\n",
    "print(\"\\nEffect of Program Enrollment on Re-arrest (Table 3): \")\n",
    "print(result.summary())"
   ]
  },
  {
   "cell_type": "markdown",
   "id": "3fd3245a",
   "metadata": {},
   "source": [
    "### Table 4 — Evaluating Interactions Between Treatment and Various Groups"
   ]
  },
  {
   "cell_type": "code",
   "execution_count": 12,
   "id": "compatible-ambassador",
   "metadata": {},
   "outputs": [
    {
     "name": "stdout",
     "output_type": "stream",
     "text": [
      "Optimization terminated successfully.\n",
      "         Current function value: 0.504372\n",
      "         Iterations 6\n",
      "\n",
      "Evaluating Interactions Between Treatment and Various Groups (Table 4): \n",
      "                           Logit Regression Results                           \n",
      "==============================================================================\n",
      "Dep. Variable:              re_arrest   No. Observations:                25000\n",
      "Model:                          Logit   Df Residuals:                    24988\n",
      "Method:                           MLE   Df Model:                           11\n",
      "Date:                Fri, 07 Jul 2023   Pseudo R-squ.:                 0.01895\n",
      "Time:                        11:34:22   Log-Likelihood:                -12609.\n",
      "converged:                       True   LL-Null:                       -12853.\n",
      "Covariance Type:            nonrobust   LLR p-value:                 1.733e-97\n",
      "=======================================================================================\n",
      "                          coef    std err          z      P>|z|      [0.025      0.975]\n",
      "---------------------------------------------------------------------------------------\n",
      "const                  -2.4545      0.110    -22.405      0.000      -2.669      -2.240\n",
      "treat                   0.1338      0.147      0.910      0.363      -0.154       0.422\n",
      "age                     0.0196      0.004      4.789      0.000       0.012       0.028\n",
      "treat_age               0.0040      0.005      0.735      0.462      -0.007       0.015\n",
      "gender_binary           0.0892      0.059      1.515      0.130      -0.026       0.205\n",
      "treat_gender_binary    -0.1053      0.080     -1.320      0.187      -0.262       0.051\n",
      "prior_arrests           0.1357      0.016      8.593      0.000       0.105       0.167\n",
      "treat_prior_arrests    -0.0697      0.020     -3.444      0.001      -0.109      -0.030\n",
      "race_ASIAN             -0.1121      0.112     -1.005      0.315      -0.331       0.107\n",
      "treat_race_ASIAN        0.1397      0.148      0.941      0.346      -0.151       0.431\n",
      "race_WHITE             -0.0268      0.056     -0.479      0.632      -0.137       0.083\n",
      "treat_race_WHITE        0.0230      0.077      0.300      0.764      -0.127       0.173\n",
      "=======================================================================================\n"
     ]
    }
   ],
   "source": [
    "# 4. Using the data available to you, what recommendation would you make regarding who to serve?\n",
    "\n",
    "# Check for interactions\n",
    "interaction_df = chicago_df.copy()\n",
    "\n",
    "for col in ['age', 'gender_binary', 'prior_arrests', 'race_ASIAN', 'race_WHITE']:\n",
    "    interaction_df[f'treat_{col}'] = interaction_df['treat'] * interaction_df[col]\n",
    "\n",
    "# Now we'll add these interaction terms into our regression model\n",
    "X = interaction_df[['treat', \n",
    "                    'age', \n",
    "                    'treat_age',\n",
    "                    'gender_binary',\n",
    "                    'treat_gender_binary',\n",
    "                    'prior_arrests', \n",
    "                    'treat_prior_arrests', \n",
    "                    'race_ASIAN', \n",
    "                    'treat_race_ASIAN',\n",
    "                    'race_WHITE',\n",
    "                    'treat_race_WHITE'\n",
    "                   ]]\n",
    "\n",
    "y = interaction_df['re_arrest']\n",
    "X = sm.add_constant(X)\n",
    "\n",
    "# Fit the model\n",
    "model = sm.Logit(y, X)\n",
    "result = model.fit()\n",
    "\n",
    "# Print the summary\n",
    "print(\"\\nEvaluating Interactions Between Treatment and Various Groups (Table 4): \")\n",
    "print(result.summary())"
   ]
  },
  {
   "cell_type": "markdown",
   "id": "8aff0875",
   "metadata": {},
   "source": [
    "### Table 5 — Effect of Enrollment on Re-Arrest For Only First-Time Offenders"
   ]
  },
  {
   "cell_type": "code",
   "execution_count": 13,
   "id": "117e8428",
   "metadata": {},
   "outputs": [
    {
     "name": "stdout",
     "output_type": "stream",
     "text": [
      "---- Describing Treatment & Outcomes ----\n",
      "\n",
      "+---------+---------------+---------------+\n",
      "|   treat |   re_arrest_0 |   re_arrest_1 |\n",
      "|---------+---------------+---------------|\n",
      "|       0 |          5973 |          1609 |\n",
      "|       1 |          5058 |          1713 |\n",
      "+---------+---------------+---------------+\n",
      "\n",
      "\n",
      "---- Running Regression ----\n",
      "\n",
      "Optimization terminated successfully.\n",
      "         Current function value: 0.494843\n",
      "         Iterations 6\n",
      "\n",
      "Effect of Enrollment on Re-Arrest For Only First-Time Offenders (Table 5): \n",
      "                           Logit Regression Results                           \n",
      "==============================================================================\n",
      "Dep. Variable:              re_arrest   No. Observations:                14353\n",
      "Model:                          Logit   Df Residuals:                    14346\n",
      "Method:                           MLE   Df Model:                            6\n",
      "Date:                Fri, 07 Jul 2023   Pseudo R-squ.:                 0.08536\n",
      "Time:                        11:34:22   Log-Likelihood:                -7102.5\n",
      "converged:                       True   LL-Null:                       -7765.3\n",
      "Covariance Type:            nonrobust   LLR p-value:                3.078e-283\n",
      "=================================================================================\n",
      "                    coef    std err          z      P>|z|      [0.025      0.975]\n",
      "---------------------------------------------------------------------------------\n",
      "const            -2.6329      0.099    -26.509      0.000      -2.828      -2.438\n",
      "treat            -0.1458      0.043     -3.383      0.001      -0.230      -0.061\n",
      "age               0.0052      0.004      1.396      0.163      -0.002       0.013\n",
      "gender_binary     0.0487      0.053      0.923      0.356      -0.055       0.152\n",
      "prior_arrests     0.3910      0.016     24.104      0.000       0.359       0.423\n",
      "race_ASIAN       -0.0050      0.097     -0.052      0.959      -0.196       0.186\n",
      "race_WHITE       -0.0080      0.050     -0.159      0.874      -0.107       0.091\n",
      "=================================================================================\n"
     ]
    }
   ],
   "source": [
    "# Examining the effect of treatment if we only look at the first offense\n",
    "\n",
    "print(\"---- Describing Treatment & Outcomes ----\\n\")\n",
    "\n",
    "chicago_df_first_offence = chicago_df.drop_duplicates(subset='person_id', keep='first')\n",
    "cross_tab = pd.crosstab(chicago_df_first_offence['treat'], chicago_df_first_offence['re_arrest'])\n",
    "cross_tab.columns = ['re_arrest_0', 're_arrest_1']\n",
    "\n",
    "# print(cross_tab.to_markdown(tablefmt=\"psql\", index=None))\n",
    "\n",
    "print(cross_tab.to_markdown(tablefmt=\"psql\"))\n",
    "\n",
    "print(\"\\n\\n---- Running Regression ----\\n\")\n",
    "\n",
    "# Run a Logit Regression\n",
    "\n",
    "# X = chicago_df_first_offence['treat']\n",
    "X = chicago_df_first_offence[['treat', 'age', 'gender_binary', 'prior_arrests', 'race_ASIAN', 'race_WHITE']]\n",
    "\n",
    "y = chicago_df_first_offence['re_arrest']\n",
    "X = sm.add_constant(X)\n",
    "\n",
    "# Fit model\n",
    "model = sm.Logit(y, X)\n",
    "result = model.fit()\n",
    "\n",
    "# Print the model summary\n",
    "print(\"\\nEffect of Enrollment on Re-Arrest For Only First-Time Offenders (Table 5): \")\n",
    "print(result.summary())"
   ]
  },
  {
   "cell_type": "markdown",
   "id": "2fd0f66f",
   "metadata": {},
   "source": [
    "## Appendix"
   ]
  },
  {
   "cell_type": "markdown",
   "id": "ec6b5d18",
   "metadata": {},
   "source": [
    "### Appendix Table 1 — Effect of Multiple Offences on Likelyhood to Recieve Treatment"
   ]
  },
  {
   "cell_type": "code",
   "execution_count": 14,
   "id": "0428c471",
   "metadata": {},
   "outputs": [
    {
     "name": "stdout",
     "output_type": "stream",
     "text": [
      "Optimization terminated successfully.\n",
      "         Current function value: 0.654386\n",
      "         Iterations 4\n",
      "\n",
      "Effect of Multiple Offences on Likelyhood to Recieve Treatment (Appendix Table 1): \n",
      "                           Logit Regression Results                           \n",
      "==============================================================================\n",
      "Dep. Variable:                  treat   No. Observations:                14353\n",
      "Model:                          Logit   Df Residuals:                    14351\n",
      "Method:                           MLE   Df Model:                            1\n",
      "Date:                Fri, 07 Jul 2023   Pseudo R-squ.:               9.871e-05\n",
      "Time:                        11:34:22   Log-Likelihood:                -9392.4\n",
      "converged:                       True   LL-Null:                       -9393.3\n",
      "Covariance Type:            nonrobust   LLR p-value:                    0.1733\n",
      "====================================================================================\n",
      "                       coef    std err          z      P>|z|      [0.025      0.975]\n",
      "------------------------------------------------------------------------------------\n",
      "const                0.5308      0.032     16.571      0.000       0.468       0.594\n",
      "multiple_offence     0.0520      0.038      1.363      0.173      -0.023       0.127\n",
      "====================================================================================\n"
     ]
    }
   ],
   "source": [
    "# Checking to see if multiple offenders are more likely to receive treatment\n",
    "chicago_df_by_person_id = chicago_df.groupby('person_id').agg({'treat': 'max', \n",
    "                                                                'prior_arrests': \"max\",\n",
    "                                                                're_arrest': \"max\",\n",
    "                                                                'race': \"first\",\n",
    "                                                                'gender': \"first\",\n",
    "                                                                'age': \"first\"\n",
    "                                                              }).reset_index()\n",
    "chicago_df_by_person_id['multiple_offence'] = chicago_df['person_id'].duplicated(keep=False).astype(int)\n",
    "\n",
    "X = chicago_df_by_person_id['multiple_offence']\n",
    "X = sm.add_constant(X)\n",
    "\n",
    "y = chicago_df_by_person_id['treat']\n",
    "\n",
    "# Fit the model\n",
    "logit_model = sm.Logit(y, X)\n",
    "result = logit_model.fit()\n",
    "\n",
    "print(\"\\nEffect of Multiple Offences on Likelyhood to Recieve Treatment (Appendix Table 1): \")\n",
    "print(result.summary())"
   ]
  },
  {
   "cell_type": "markdown",
   "id": "0fd6552b",
   "metadata": {},
   "source": [
    "### Appendix Figure 1 — Count of Single and Multiple Offenders in Treatment and Control Groups"
   ]
  },
  {
   "cell_type": "code",
   "execution_count": 15,
   "id": "dd69e47e",
   "metadata": {},
   "outputs": [
    {
     "data": {
      "image/png": "[encoded data removed]",
      "text/plain": [
       "<Figure size 1000x600 with 1 Axes>"
      ]
     },
     "metadata": {},
     "output_type": "display_data"
    }
   ],
   "source": [
    "sns.set(style=\"whitegrid\")\n",
    "plt.figure(figsize=(10,6))\n",
    "ax = sns.countplot(x=\"multiple_offence\", hue=\"treat\", data=chicago_df_by_person_id)\n",
    "\n",
    "# Adding legends, titles and labels for clarity\n",
    "ax.set_title('Count of Single and Multiple Offenders in Treatment and Control Groups (Appendix Figure 1)', fontsize=14)\n",
    "ax.set_xlabel('Multiple Offence', fontsize=12)\n",
    "ax.set_xticklabels(['Single Offenders', 'Multiple Offenders'])\n",
    "ax.set_ylabel('Count', fontsize=12)\n",
    "plt.legend(title='Treatment Status', title_fontsize='13', labels=['Control', 'Treatment'])\n",
    "\n",
    "plt.show()"
   ]
  },
  {
   "cell_type": "markdown",
   "id": "ff790325",
   "metadata": {},
   "source": [
    "### Appendix Table 2 — Evaluating Non-Linear Relationships Between Age"
   ]
  },
  {
   "cell_type": "code",
   "execution_count": 16,
   "id": "964fa890",
   "metadata": {},
   "outputs": [
    {
     "name": "stdout",
     "output_type": "stream",
     "text": [
      "---- Checking For Non-Linear Relationship in Age -----\n",
      "Optimization terminated successfully.\n",
      "         Current function value: 0.506494\n",
      "         Iterations 6\n",
      "                           Logit Regression Results                           \n",
      "==============================================================================\n",
      "Dep. Variable:              re_arrest   No. Observations:                25000\n",
      "Model:                          Logit   Df Residuals:                    24996\n",
      "Method:                           MLE   Df Model:                            3\n",
      "Date:                Fri, 07 Jul 2023   Pseudo R-squ.:                 0.01482\n",
      "Time:                        11:34:22   Log-Likelihood:                -12662.\n",
      "converged:                       True   LL-Null:                       -12853.\n",
      "Covariance Type:            nonrobust   LLR p-value:                 2.789e-82\n",
      "===============================================================================\n",
      "                  coef    std err          z      P>|z|      [0.025      0.975]\n",
      "-------------------------------------------------------------------------------\n",
      "const          -2.6589      0.182    -14.603      0.000      -3.016      -2.302\n",
      "treat          -0.0270      0.032     -0.841      0.400      -0.090       0.036\n",
      "age             0.0498      0.011      4.477      0.000       0.028       0.072\n",
      "age_squared    -0.0002      0.000     -1.040      0.298      -0.000       0.000\n",
      "===============================================================================\n"
     ]
    }
   ],
   "source": [
    "# Running some robustness checks\n",
    "\n",
    "print(\"---- Checking For Non-Linear Relationship in Age -----\")\n",
    "\n",
    "chicago_df[\"age_squared\"] = chicago_df[\"age\"] ** 2\n",
    "\n",
    "# Run a Logit Regression\n",
    "X = chicago_df[['treat', 'age', 'age_squared']]\n",
    "\n",
    "y = chicago_df['re_arrest']\n",
    "X = sm.add_constant(X)\n",
    "\n",
    "# Fit model\n",
    "model = sm.Logit(y, X)\n",
    "result = model.fit()\n",
    "\n",
    "# Print the model summary\n",
    "print(result.summary())"
   ]
  }
 ],
 "metadata": {
  "kernelspec": {
   "display_name": "Python 3 (ipykernel)",
   "language": "python",
   "name": "python3"
  },
  "language_info": {
   "codemirror_mode": {
    "name": "ipython",
    "version": 3
   },
   "file_extension": ".py",
   "mimetype": "text/x-python",
   "name": "python",
   "nbconvert_exporter": "python",
   "pygments_lexer": "ipython3",
   "version": "3.9.2"
  },
  "latex_envs": {
   "LaTeX_envs_menu_present": true,
   "autoclose": false,
   "autocomplete": true,
   "bibliofile": "biblio.bib",
   "cite_by": "apalike",
   "current_citInitial": 1,
   "eqLabelWithNumbers": true,
   "eqNumInitial": 1,
   "hotkeys": {
    "equation": "Ctrl-E",
    "itemize": "Ctrl-I"
   },
   "labels_anchors": false,
   "latex_user_defs": false,
   "report_style_numbering": false,
   "user_envs_cfg": false
  },
  "toc": {
   "base_numbering": 1,
   "nav_menu": {},
   "number_sections": true,
   "sideBar": true,
   "skip_h1_title": true,
   "title_cell": "Table of Contents",
   "title_sidebar": "Contents",
   "toc_cell": false,
   "toc_position": {
    "height": "calc(100% - 180px)",
    "left": "10px",
    "top": "150px",
    "width": "165px"
   },
   "toc_section_display": true,
   "toc_window_display": false
  }
 },
 "nbformat": 4,
 "nbformat_minor": 5
}
