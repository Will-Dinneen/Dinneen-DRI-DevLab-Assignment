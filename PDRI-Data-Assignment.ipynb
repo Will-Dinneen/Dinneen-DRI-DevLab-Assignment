{
 "cells": [
  {
   "cell_type": "markdown",
   "id": "impressive-warning",
   "metadata": {},
   "source": [
    "*Created by Will Dinneen (willdinneen@gmail.com) for the PDRI-DevLab Junior Data Scientist Position @ UPenn*"
   ]
  },
  {
   "cell_type": "markdown",
   "id": "exact-traffic",
   "metadata": {},
   "source": [
    "## Introduction"
   ]
  },
  {
   "cell_type": "markdown",
   "id": "divided-nothing",
   "metadata": {},
   "source": [
    "- Here I will write my overall methodology and considerations, as well as a summary of key results\n",
    "\n",
    "- In every section I will also explain my methodology more in depth before each code block"
   ]
  },
  {
   "cell_type": "code",
   "execution_count": 161,
   "id": "dutch-lecture",
   "metadata": {},
   "outputs": [],
   "source": [
    "# # FOR PRINTING OUT TABLES!!\n",
    "\n",
    "# df = grades_df[[\"person_id\", \"gr9_fall_math\", \"gr9_fall_hist\"]].head(5)\n",
    "\n",
    "# print(df.to_markdown(tablefmt=\"psql\", index=None))"
   ]
  },
  {
   "cell_type": "markdown",
   "id": "younger-pipeline",
   "metadata": {},
   "source": [
    "## Data Management\n",
    "\n",
    "**case.csv** is the main dataset and reflects dates of arrest and disposition (trial or court appearance) during the period in which the program operated. The file also contains an indicator of whether the arrestee was referred to the intervention program for that arrest (i.e. whether they were treated), whether the person was rearrested while awaiting trial, the number of prior arrests at the time of program entry, and the arrest location. \n",
    "\n",
    "**demo.csv** contains demographic information about arrestees, including some who were not included in the program evaluation.\n",
    "\n",
    "**prior_arrests.csv** reflects pre-period arrests among individuals in\n",
    "*case.csv*;the pre-period ran from 2008-2011.\n",
    "\n",
    "**grades.csv** includes 9th and 10th grade course grades for a subset of individuals in *case.csv*."
   ]
  },
  {
   "cell_type": "code",
   "execution_count": 162,
   "id": "provincial-double",
   "metadata": {},
   "outputs": [],
   "source": [
    "# Imports\n",
    "import pandas as pd\n",
    "\n",
    "# Datasets\n",
    "case_df = pd.read_csv('../case.csv')\n",
    "demo_df = pd.read_csv('../demo.csv')\n",
    "prior_arrests_df = pd.read_csv('../prior_arrests.csv')\n",
    "grades_df = pd.read_csv('../grades.csv')"
   ]
  },
  {
   "cell_type": "code",
   "execution_count": 163,
   "id": "alpine-excellence",
   "metadata": {},
   "outputs": [
    {
     "name": "stdout",
     "output_type": "stream",
     "text": [
      "Gender column values pre-recode:\n",
      "['F' 'M' 'male' 'female']\n",
      "\n",
      "Gender column values post-recode:\n",
      "['F' 'M']\n"
     ]
    }
   ],
   "source": [
    "# 1. Recode it so that males are consistently coded as “M” and females are consistently coded as “F”.\n",
    "\n",
    "print(\"Gender column values pre-recode:\")\n",
    "print(demo_df[\"gender\"].unique())\n",
    "\n",
    "# Gender column recoding\n",
    "gender_recode = {\n",
    "    'male': 'M',\n",
    "    'female': 'F'\n",
    "}\n",
    "\n",
    "demo_df[\"gender\"] = demo_df[\"gender\"].replace(gender_recode)\n",
    "\n",
    "print(\"\\nGender column values post-recode:\")\n",
    "print(demo_df[\"gender\"].unique())"
   ]
  },
  {
   "cell_type": "code",
   "execution_count": 180,
   "id": "choice-buyer",
   "metadata": {},
   "outputs": [
    {
     "name": "stdout",
     "output_type": "stream",
     "text": [
      "---- Checking Data Integrity ----\n",
      "\n",
      "Missing demographic values: 0\n",
      "Missing case values: 0\n",
      "\n",
      "Duplicate demographic ids: 0\n",
      "Number of contradictory demographic ids: 0\n",
      "\n",
      "\n",
      "---- Comparing Demographic & Case Representation ----\n",
      "\n",
      "Number of unique persons in case data:\n",
      "15353\n",
      "\n",
      "Number of unique persons in demographic data:\n",
      "15715\n",
      "\n",
      "Difference in number of unique persons in demographic vs case data:\n",
      "362\n",
      "\n",
      "Missing values after merge:\n",
      "caseid           0\n",
      "person_id        0\n",
      "arrest_date      0\n",
      "dispos_date      0\n",
      "treat            0\n",
      "re_arrest        0\n",
      "prior_arrests    0\n",
      "address          0\n",
      "race             0\n",
      "gender           0\n",
      "bdate            0\n",
      "dtype: int64\n"
     ]
    }
   ],
   "source": [
    "# 2. Merge the case and demo datasets together so that each row in the case dataset also contains the demographics of the defendant.\n",
    "\n",
    "# Confirm Data Integrity\n",
    "print(\"---- Checking Data Integrity ----\\n\")\n",
    "\n",
    "missing_demo_values = demo_df[\"person_id\"].isnull().sum()\n",
    "missing_case_values = case_df[\"person_id\"].isnull().sum()\n",
    "print(f\"Missing demographic values: {missing_demo_values}\")\n",
    "print(f\"Missing case values: {missing_case_values}\")\n",
    "\n",
    "duplicate_demo_ids = demo_df[\"person_id\"].duplicated().sum()\n",
    "print(f\"\\nDuplicate demographic ids: {duplicate_demo_ids}\")\n",
    "# Check to see if duplicated IDs are duplicated rows\n",
    "duplicate_ids = demo_df[demo_df[\"person_id\"].duplicated(keep=False)]\n",
    "duplicated_rows = duplicate_ids[duplicate_ids.duplicated(keep=False)]\n",
    "print(f\"Number of contradictory demographic ids: {len(duplicate_ids) - len(duplicated_rows)}\")\n",
    "\n",
    "# Dropping duplicates\n",
    "demo_df = demo_df.drop_duplicates()\n",
    "\n",
    "# Measure Differences Accross Demo & Case data\n",
    "print(\"\\n\\n---- Comparing Demographic & Case Representation ----\\n\")\n",
    "\n",
    "unique_case_ids = case_df[\"person_id\"].unique()\n",
    "unique_demo_ids = demo_df[\"person_id\"].unique()\n",
    "print(\"Number of unique persons in case data:\")\n",
    "print(len(unique_case_ids))\n",
    "\n",
    "print(\"\\nNumber of unique persons in demographic data:\")\n",
    "print(len(unique_demo_ids))\n",
    "\n",
    "print(\"\\nDifference in number of unique persons in demographic vs case data:\")\n",
    "print(len(unique_demo_ids) - len(unique_case_ids))\n",
    "\n",
    "# Identify extra demo IDs & save to file for later investigation \n",
    "extra_demo_ids = set(unique_demo_ids) - set(unique_case_ids)\n",
    "extra_demo_ids_df = pd.DataFrame(extra_demo_ids, columns=['person_id'])\n",
    "extra_demo_ids_df.to_csv('./outputs/extra_demo_ids.csv', index=False)\n",
    "\n",
    "# Merge the df\n",
    "merged_df = case_df.merge(demo_df, on='person_id', how='left')\n",
    "\n",
    "# Check for missing values\n",
    "print(f\"\\nMissing values after merge:\\n{merged_df.isnull().sum()}\")"
   ]
  },
  {
   "cell_type": "code",
   "execution_count": 188,
   "id": "closed-translation",
   "metadata": {},
   "outputs": [
    {
     "name": "stdout",
     "output_type": "stream",
     "text": [
      "Number of addresses with correct format: 26000\n",
      "Number of addresses with incorrect format: 0\n",
      "\n",
      "Represented cities: ['chicago' 'oak lawn' 'cicero']\n",
      "\n",
      "Number of cases in Chicago: 25000\n"
     ]
    }
   ],
   "source": [
    "# 3. For the purpose of this analysis, please restrict the data to only individuals who were arrested in Chicago.\n",
    "\n",
    "# Check the format of the address column\n",
    "address_format_check = merged_df[\"address\"].str.contains(\", \")\n",
    "print(f\"Number of addresses with correct format: {address_format_check.sum()}\")\n",
    "print(f\"Number of addresses with incorrect format: {(~address_format_check).sum()}\")\n",
    "\n",
    "# Extract the city from the address column\n",
    "merged_df[\"city\"] = merged_df[\"address\"].str.split(\", \").str[1]\n",
    "\n",
    "# Confirm that all cities are the same case\n",
    "merged_df[\"city\"] = merged_df[\"city\"].str.lower()\n",
    "\n",
    "# Check to see if there are any misspelled values\n",
    "print(f\"\\nRepresented cities: {merged_df['city'].unique()}\")\n",
    "\n",
    "# Extract all rows with arrests in Chicago\n",
    "chicago_df = merged_df[merged_df[\"city\"] == \"chicago\"]\n",
    "\n",
    "print(f\"\\nNumber of cases in Chicago: {len(chicago_df)}\")"
   ]
  },
  {
   "cell_type": "markdown",
   "id": "fourth-committee",
   "metadata": {},
   "source": [
    "## Variable Creation"
   ]
  },
  {
   "cell_type": "code",
   "execution_count": 4,
   "id": "fifth-burlington",
   "metadata": {},
   "outputs": [],
   "source": [
    "# 1. Create an age variable equal to the defendant’s age at the time of arrest for each case."
   ]
  },
  {
   "cell_type": "code",
   "execution_count": 5,
   "id": "brave-listening",
   "metadata": {},
   "outputs": [],
   "source": [
    "# 2. Please construct measures for 9th and 10th grade GPA for this target population."
   ]
  },
  {
   "cell_type": "code",
   "execution_count": 6,
   "id": "stable-blink",
   "metadata": {},
   "outputs": [],
   "source": [
    "# 3.a. Please reconstruct the variable (prior arrests) using the prior_arrests.csv file. \n",
    "\n",
    "# 3.b. Please reconstruct this indicator (re_arrest).\n",
    "\n",
    "# 3.c. Please show that the variables you reconstructed are equal to the versions in the provided datasets."
   ]
  },
  {
   "cell_type": "markdown",
   "id": "foreign-calgary",
   "metadata": {},
   "source": [
    "## Statistical Analysis"
   ]
  },
  {
   "cell_type": "code",
   "execution_count": 7,
   "id": "deadly-cattle",
   "metadata": {},
   "outputs": [],
   "source": [
    "# 1. Describe the demographic characteristics of the study population based on the data available to you.\n",
    "\n",
    "# 1.a. Are the treatment and control groups balanced? Please present your answer in the form of a table.\n",
    "\n",
    "# 1.b. Choose one observable characteristic and visualize the difference between enrolled and not enrolled subjects."
   ]
  },
  {
   "cell_type": "code",
   "execution_count": null,
   "id": "local-throw",
   "metadata": {},
   "outputs": [],
   "source": [
    "# 3. Did participating in the program reduce the likelihood of re-arrest before disposition? Explain your answer and your methodology."
   ]
  },
  {
   "cell_type": "code",
   "execution_count": null,
   "id": "compatible-ambassador",
   "metadata": {},
   "outputs": [],
   "source": [
    "# 4. Using the data available to you, what recommendation would you make regarding who to serve?"
   ]
  },
  {
   "cell_type": "markdown",
   "id": "passive-google",
   "metadata": {},
   "source": [
    "## Conclusion"
   ]
  },
  {
   "cell_type": "markdown",
   "id": "dedicated-colorado",
   "metadata": {},
   "source": []
  }
 ],
 "metadata": {
  "kernelspec": {
   "display_name": "Python 3 (ipykernel)",
   "language": "python",
   "name": "python3"
  },
  "language_info": {
   "codemirror_mode": {
    "name": "ipython",
    "version": 3
   },
   "file_extension": ".py",
   "mimetype": "text/x-python",
   "name": "python",
   "nbconvert_exporter": "python",
   "pygments_lexer": "ipython3",
   "version": "3.9.2"
  },
  "latex_envs": {
   "LaTeX_envs_menu_present": true,
   "autoclose": false,
   "autocomplete": true,
   "bibliofile": "biblio.bib",
   "cite_by": "apalike",
   "current_citInitial": 1,
   "eqLabelWithNumbers": true,
   "eqNumInitial": 1,
   "hotkeys": {
    "equation": "Ctrl-E",
    "itemize": "Ctrl-I"
   },
   "labels_anchors": false,
   "latex_user_defs": false,
   "report_style_numbering": false,
   "user_envs_cfg": false
  },
  "toc": {
   "base_numbering": 1,
   "nav_menu": {},
   "number_sections": true,
   "sideBar": true,
   "skip_h1_title": true,
   "title_cell": "Table of Contents",
   "title_sidebar": "Contents",
   "toc_cell": false,
   "toc_position": {
    "height": "calc(100% - 180px)",
    "left": "10px",
    "top": "150px",
    "width": "165px"
   },
   "toc_section_display": true,
   "toc_window_display": false
  }
 },
 "nbformat": 4,
 "nbformat_minor": 5
}
